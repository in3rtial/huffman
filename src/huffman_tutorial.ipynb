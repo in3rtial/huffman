{
 "metadata": {
  "name": "huffman_tutorial"
 },
 "nbformat": 3,
 "nbformat_minor": 0,
 "worksheets": [
  {
   "cells": [
    {
     "cell_type": "heading",
     "level": 1,
     "metadata": {},
     "source": [
      "Messing around with Huffman coding in python3 and C"
     ]
    },
    {
     "cell_type": "markdown",
     "metadata": {},
     "source": [
      "\n",
      "The original article (A Method for the Construction of Minimum-Redundancy Codes) is easily reachable by typing \"Huffman 1952\" in your favorite search engine."
     ]
    },
    {
     "cell_type": "heading",
     "level": 2,
     "metadata": {},
     "source": [
      "What is huffman coding?"
     ]
    },
    {
     "cell_type": "markdown",
     "metadata": {},
     "source": [
      "[Huffman coding](http://en.wikipedia.org/wiki/Huffman_coding) is a lossless data compression algorithm.\n",
      "\n",
      "It can be applied to chains of symbols, such as text.\n",
      "\n",
      "It is [optimal](http://en.wikipedia.org/wiki/Huffman_coding#Optimality) if the probability mass function of the symbols are known and they are independent and identically distributed."
     ]
    },
    {
     "cell_type": "heading",
     "level": 2,
     "metadata": {},
     "source": [
      "Give me an example"
     ]
    },
    {
     "cell_type": "code",
     "collapsed": false,
     "input": [
      "#first, we some string of symbols to encode\n",
      "text = \"ABCABAACABBC\""
     ],
     "language": "python",
     "metadata": {},
     "outputs": [],
     "prompt_number": 1
    },
    {
     "cell_type": "heading",
     "level": 3,
     "metadata": {},
     "source": [
      "Step 1: figuring out the probability of each symbol"
     ]
    },
    {
     "cell_type": "code",
     "collapsed": false,
     "input": [
      "#let's find out how many of each symbol we saw with this function\n",
      "#we will use the defaultdict, for higher performance\n",
      "from collections import defaultdict\n",
      "\n",
      "\n",
      "def get_occurence_dict(text):\n",
      "    \"\"\"get the mapping {symbol : number of occurences in the text}\"\"\"\n",
      "    sym_to_occurrence = defaultdict(int)  # char c -> int occurrences\n",
      "    for sym in text:\n",
      "        sym_to_occurrence[sym] = sym_to_occurrence.get(sym, 0) + 1\n",
      "    return sym_to_occurrence\n",
      "\n",
      "\n",
      "occurrences = get_occurence_dict(text)\n",
      "\n",
      "print(sorted(occurrences.items()))"
     ],
     "language": "python",
     "metadata": {},
     "outputs": [
      {
       "output_type": "stream",
       "stream": "stdout",
       "text": [
        "[('A', 5), ('B', 4), ('C', 3)]\n"
       ]
      }
     ],
     "prompt_number": 31
    },
    {
     "cell_type": "code",
     "collapsed": false,
     "input": [
      "#from the number of times we saw each symbol, let's calculate their respective frequency\n",
      "def get_frequency_table(occurence_dict, text_length):\n",
      "    \"\"\"convert occurrences to frequency\"\"\"\n",
      "    frequency_table = []  # (char c, frequency (sums to 1))\n",
      "    for k, v in occurence_dict.items():\n",
      "        frequency_table.append((v / text_length, [k]))\n",
      "    return frequency_table\n",
      "\n",
      "\n",
      "frequencies = get_frequency_table(occurrences, len(text))\n",
      "    \n",
      "\n",
      "print(sorted(frequencies))"
     ],
     "language": "python",
     "metadata": {},
     "outputs": [
      {
       "output_type": "stream",
       "stream": "stdout",
       "text": [
        "[(0.25, ['C']), (0.3333333333333333, ['B']), (0.4166666666666667, ['A'])]\n"
       ]
      }
     ],
     "prompt_number": 32
    },
    {
     "cell_type": "heading",
     "level": 3,
     "metadata": {},
     "source": [
      "Step 2: from the probabilities, generate the binary code for each symbol"
     ]
    },
    {
     "cell_type": "code",
     "collapsed": false,
     "input": [
      "#to make the procedure efficient, we will use a heap (min-heap)\n",
      "from heapq import heapify, heappop, heappush\n",
      "\n",
      "def generate_binary_code(frequency_table):\n",
      "    \"\"\"generates binary code for each sym\n",
      "    use the exact same encoding as in the article\"\"\"\n",
      "    heapify(frequency_table)\n",
      "    code = defaultdict(list)\n",
      "\n",
      "    while len(frequency_table) > 1:\n",
      "        one  = heappop(frequency_table)\n",
      "        zero = heappop(frequency_table)\n",
      "        for sym in one[1]:\n",
      "            code[sym].append(1)\n",
      "        for sym in zero[1]:\n",
      "            code[sym].append(0)\n",
      "        heappush(frequency_table, (one[0] + zero[0], one[1] + zero[1]))\n",
      "    return code\n",
      "\n",
      "code = generate_binary_code(frequencies)"
     ],
     "language": "python",
     "metadata": {},
     "outputs": [],
     "prompt_number": 33
    },
    {
     "cell_type": "code",
     "collapsed": false,
     "input": [
      "for (sym, binary) in sorted(code.items()):\n",
      "    print(\"{0}    {1}\".format(sym, binary))"
     ],
     "language": "python",
     "metadata": {},
     "outputs": [
      {
       "output_type": "stream",
       "stream": "stdout",
       "text": [
        "A    [1]\n",
        "B    [0, 0]\n",
        "C    [1, 0]\n"
       ]
      }
     ],
     "prompt_number": 34
    },
    {
     "cell_type": "heading",
     "level": 3,
     "metadata": {},
     "source": [
      "Step 3. Encode the text"
     ]
    },
    {
     "cell_type": "code",
     "collapsed": false,
     "input": [
      "encoded_text = []\n",
      "\n",
      "\n",
      "for sym in text:\n",
      "    encoded_text += code[sym]\n",
      "    \n",
      "    \n",
      "print(encoded_text)"
     ],
     "language": "python",
     "metadata": {},
     "outputs": [
      {
       "output_type": "stream",
       "stream": "stdout",
       "text": [
        "[1, 0, 0, 1, 0, 1, 0, 0, 1, 1, 1, 0, 1, 0, 0, 0, 0, 1, 0]\n"
       ]
      }
     ],
     "prompt_number": 35
    },
    {
     "cell_type": "heading",
     "level": 3,
     "metadata": {},
     "source": [
      "Step 4. Transform the encoding into bits"
     ]
    },
    {
     "cell_type": "markdown",
     "metadata": {},
     "source": [
      "So the encoded message is actually bigger than the original one...\n",
      "\n",
      "Python doesn't allow low-level"
     ]
    }
   ],
   "metadata": {}
  }
 ]
}